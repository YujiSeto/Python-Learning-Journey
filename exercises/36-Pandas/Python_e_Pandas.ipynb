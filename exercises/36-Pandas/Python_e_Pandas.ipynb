{
  "cells": [
    {
      "cell_type": "markdown",
      "metadata": {
        "id": "NtHtHQSTaZro"
      },
      "source": [
        "Pandas"
      ]
    },
    {
      "cell_type": "code",
      "execution_count": 16,
      "metadata": {
        "id": "7XR-ehfdy8BY"
      },
      "outputs": [],
      "source": [
        "import pandas as pd"
      ]
    },
    {
      "cell_type": "code",
      "execution_count": 17,
      "metadata": {
        "colab": {
          "base_uri": "https://localhost:8080/",
          "height": 272
        },
        "id": "BaQcfQGgaglM",
        "outputId": "4c908195-26ed-45cf-cb49-4246e328dad4"
      },
      "outputs": [
        {
          "data": {
            "text/plain": [
              "0     1\n",
              "1     7\n",
              "2     9\n",
              "3    13\n",
              "4    17\n",
              "5    99\n",
              "dtype: int64"
            ]
          },
          "execution_count": 17,
          "metadata": {},
          "output_type": "execute_result"
        }
      ],
      "source": [
        "series_objeto = pd.Series([1,7,9,13,17,99])\n",
        "series_objeto"
      ]
    },
    {
      "cell_type": "code",
      "execution_count": 18,
      "metadata": {
        "colab": {
          "base_uri": "https://localhost:8080/",
          "height": 210
        },
        "id": "I2S38Ly8aVfk",
        "outputId": "e2a1f43d-0613-4b72-cb68-d3f601d10d48"
      },
      "outputs": [
        {
          "data": {
            "text/plain": [
              "alfa    4\n",
              "beta    7\n",
              "teta    8\n",
              "gama   -2\n",
              "dtype: int64"
            ]
          },
          "execution_count": 18,
          "metadata": {},
          "output_type": "execute_result"
        }
      ],
      "source": [
        "series_objeto2= pd.Series([4, 7, 8, -2], index = ['alfa', 'beta', 'teta', 'gama'])\n",
        "series_objeto2"
      ]
    },
    {
      "cell_type": "markdown",
      "metadata": {
        "id": "gFvjqnUkaj_L"
      },
      "source": [
        "Dataframe"
      ]
    },
    {
      "cell_type": "code",
      "execution_count": 19,
      "metadata": {
        "colab": {
          "base_uri": "https://localhost:8080/",
          "height": 175
        },
        "id": "60tfD4Bmz9Eh",
        "outputId": "5d57a37f-d61d-4d9d-cfab-788749ae111b"
      },
      "outputs": [
        {
          "data": {
            "text/html": [
              "<div>\n",
              "<style scoped>\n",
              "    .dataframe tbody tr th:only-of-type {\n",
              "        vertical-align: middle;\n",
              "    }\n",
              "\n",
              "    .dataframe tbody tr th {\n",
              "        vertical-align: top;\n",
              "    }\n",
              "\n",
              "    .dataframe thead th {\n",
              "        text-align: right;\n",
              "    }\n",
              "</style>\n",
              "<table border=\"1\" class=\"dataframe\">\n",
              "  <thead>\n",
              "    <tr style=\"text-align: right;\">\n",
              "      <th></th>\n",
              "      <th>cursos</th>\n",
              "      <th>créditos</th>\n",
              "      <th>requisito</th>\n",
              "    </tr>\n",
              "  </thead>\n",
              "  <tbody>\n",
              "    <tr>\n",
              "      <th>0</th>\n",
              "      <td>Estatística</td>\n",
              "      <td>90</td>\n",
              "      <td>True</td>\n",
              "    </tr>\n",
              "    <tr>\n",
              "      <th>1</th>\n",
              "      <td>Economia</td>\n",
              "      <td>60</td>\n",
              "      <td>False</td>\n",
              "    </tr>\n",
              "    <tr>\n",
              "      <th>2</th>\n",
              "      <td>Cálculo</td>\n",
              "      <td>90</td>\n",
              "      <td>True</td>\n",
              "    </tr>\n",
              "    <tr>\n",
              "      <th>3</th>\n",
              "      <td>Geometria</td>\n",
              "      <td>40</td>\n",
              "      <td>False</td>\n",
              "    </tr>\n",
              "  </tbody>\n",
              "</table>\n",
              "</div>"
            ],
            "text/plain": [
              "        cursos  créditos  requisito\n",
              "0  Estatística        90       True\n",
              "1     Economia        60      False\n",
              "2      Cálculo        90       True\n",
              "3    Geometria        40      False"
            ]
          },
          "execution_count": 19,
          "metadata": {},
          "output_type": "execute_result"
        }
      ],
      "source": [
        "disciplinas = {'cursos':['Estatística','Economia','Cálculo','Geometria'],\n",
        "               'créditos':[90,60,90,40],\n",
        "               'requisito':[True,False,True,False]}\n",
        "\n",
        "data = pd.DataFrame(disciplinas)\n",
        "data"
      ]
    },
    {
      "cell_type": "code",
      "execution_count": 20,
      "metadata": {
        "colab": {
          "base_uri": "https://localhost:8080/",
          "height": 143
        },
        "id": "MT9EYddU0DKu",
        "outputId": "8bc73654-5976-487c-d3a7-6c53dd61d604"
      },
      "outputs": [
        {
          "data": {
            "text/html": [
              "<div>\n",
              "<style scoped>\n",
              "    .dataframe tbody tr th:only-of-type {\n",
              "        vertical-align: middle;\n",
              "    }\n",
              "\n",
              "    .dataframe tbody tr th {\n",
              "        vertical-align: top;\n",
              "    }\n",
              "\n",
              "    .dataframe thead th {\n",
              "        text-align: right;\n",
              "    }\n",
              "</style>\n",
              "<table border=\"1\" class=\"dataframe\">\n",
              "  <thead>\n",
              "    <tr style=\"text-align: right;\">\n",
              "      <th></th>\n",
              "      <th>Cidade</th>\n",
              "      <th>População</th>\n",
              "    </tr>\n",
              "  </thead>\n",
              "  <tbody>\n",
              "    <tr>\n",
              "      <th>0</th>\n",
              "      <td>Maringá</td>\n",
              "      <td>403.063</td>\n",
              "    </tr>\n",
              "    <tr>\n",
              "      <th>1</th>\n",
              "      <td>Itabira</td>\n",
              "      <td>120.904</td>\n",
              "    </tr>\n",
              "    <tr>\n",
              "      <th>2</th>\n",
              "      <td>Uberlândia</td>\n",
              "      <td>699.097</td>\n",
              "    </tr>\n",
              "  </tbody>\n",
              "</table>\n",
              "</div>"
            ],
            "text/plain": [
              "       Cidade  População\n",
              "0     Maringá    403.063\n",
              "1     Itabira    120.904\n",
              "2  Uberlândia    699.097"
            ]
          },
          "execution_count": 20,
          "metadata": {},
          "output_type": "execute_result"
        }
      ],
      "source": [
        "import pandas as pd\n",
        "nome_cidade = pd.Series(['Maringá','Itabira','Uberlândia',])\n",
        "populacao = pd.Series([403.063, 120.904, 699.097])\n",
        "\n",
        "pd.DataFrame({\"Cidade\": nome_cidade, \"População\": populacao})"
      ]
    },
    {
      "cell_type": "code",
      "execution_count": 21,
      "metadata": {
        "id": "2wae-lkRYcbA"
      },
      "outputs": [],
      "source": [
        "cidades = ['Maringá', 'Itabira', 'Uberlândia', 'Salvador', 'Fortaleza']\n",
        "populacao = [403.063, 120.904, 699.097, 2.886698, 2.686612]"
      ]
    },
    {
      "cell_type": "code",
      "execution_count": 22,
      "metadata": {
        "colab": {
          "base_uri": "https://localhost:8080/"
        },
        "id": "xYN0Jqb2Y_tn",
        "outputId": "76597b3d-9c2c-4f54-ea86-e48b640bb857"
      },
      "outputs": [
        {
          "data": {
            "text/plain": [
              "{'Maringá': 403.063,\n",
              " 'Itabira': 120.904,\n",
              " 'Uberlândia': 699.097,\n",
              " 'Salvador': 2.886698,\n",
              " 'Fortaleza': 2.686612}"
            ]
          },
          "execution_count": 22,
          "metadata": {},
          "output_type": "execute_result"
        }
      ],
      "source": [
        "populacao_cidades = dict(zip(cidades, populacao))\n",
        "populacao_cidades"
      ]
    },
    {
      "cell_type": "code",
      "execution_count": 23,
      "metadata": {
        "colab": {
          "base_uri": "https://localhost:8080/"
        },
        "id": "8u7ZjgCpZOle",
        "outputId": "81e5f90f-596c-4d35-db6d-48c0b6a502b0"
      },
      "outputs": [
        {
          "data": {
            "text/plain": [
              "dict"
            ]
          },
          "execution_count": 23,
          "metadata": {},
          "output_type": "execute_result"
        }
      ],
      "source": [
        "type(populacao_cidades)"
      ]
    },
    {
      "cell_type": "code",
      "execution_count": 24,
      "metadata": {
        "colab": {
          "base_uri": "https://localhost:8080/"
        },
        "id": "C87C8uaZZYeC",
        "outputId": "339fee3c-aaaf-4884-b28c-75c16c878daf"
      },
      "outputs": [
        {
          "data": {
            "text/plain": [
              "699.097"
            ]
          },
          "execution_count": 24,
          "metadata": {},
          "output_type": "execute_result"
        }
      ],
      "source": [
        "populacao_cidades['Uberlândia']"
      ]
    },
    {
      "cell_type": "code",
      "execution_count": 25,
      "metadata": {
        "colab": {
          "base_uri": "https://localhost:8080/"
        },
        "id": "uCS-s_8gZehv",
        "outputId": "d0ce1381-51b8-43d4-fd86-dc3dc96dddfc"
      },
      "outputs": [
        {
          "data": {
            "text/plain": [
              "True"
            ]
          },
          "execution_count": 25,
          "metadata": {},
          "output_type": "execute_result"
        }
      ],
      "source": [
        "'Maringá' in populacao_cidades"
      ]
    },
    {
      "cell_type": "code",
      "execution_count": 26,
      "metadata": {
        "colab": {
          "base_uri": "https://localhost:8080/"
        },
        "id": "C39s07uwZtN8",
        "outputId": "7a78b095-d81c-4b81-a6ca-99d14f9eae54"
      },
      "outputs": [
        {
          "data": {
            "text/plain": [
              "False"
            ]
          },
          "execution_count": 26,
          "metadata": {},
          "output_type": "execute_result"
        }
      ],
      "source": [
        "'São Carlos' in populacao_cidades"
      ]
    },
    {
      "cell_type": "code",
      "execution_count": 27,
      "metadata": {
        "id": "9MVvM1gkZ0Tu"
      },
      "outputs": [],
      "source": [
        "populacao_cidades['Vitória'] = 365.855"
      ]
    },
    {
      "cell_type": "code",
      "execution_count": 28,
      "metadata": {
        "colab": {
          "base_uri": "https://localhost:8080/"
        },
        "id": "26MDLOkoZ__v",
        "outputId": "4676525d-b5a3-4a54-91dc-1391b3c4bf06"
      },
      "outputs": [
        {
          "data": {
            "text/plain": [
              "{'Maringá': 403.063,\n",
              " 'Itabira': 120.904,\n",
              " 'Uberlândia': 699.097,\n",
              " 'Salvador': 2.886698,\n",
              " 'Fortaleza': 2.686612,\n",
              " 'Vitória': 365.855}"
            ]
          },
          "execution_count": 28,
          "metadata": {},
          "output_type": "execute_result"
        }
      ],
      "source": [
        "populacao_cidades"
      ]
    },
    {
      "cell_type": "code",
      "execution_count": 29,
      "metadata": {
        "id": "BJLWrXLpaF2E"
      },
      "outputs": [],
      "source": [
        "del populacao_cidades['Fortaleza']"
      ]
    },
    {
      "cell_type": "code",
      "execution_count": 30,
      "metadata": {
        "colab": {
          "base_uri": "https://localhost:8080/"
        },
        "id": "E2y9mr1laMnk",
        "outputId": "95b4a6cc-8518-430d-f166-2879ccf64ec5"
      },
      "outputs": [
        {
          "data": {
            "text/plain": [
              "{'Maringá': 403.063,\n",
              " 'Itabira': 120.904,\n",
              " 'Uberlândia': 699.097,\n",
              " 'Salvador': 2.886698,\n",
              " 'Vitória': 365.855}"
            ]
          },
          "execution_count": 30,
          "metadata": {},
          "output_type": "execute_result"
        }
      ],
      "source": [
        "populacao_cidades"
      ]
    }
  ],
  "metadata": {
    "colab": {
      "provenance": []
    },
    "kernelspec": {
      "display_name": "venv",
      "language": "python",
      "name": "python3"
    },
    "language_info": {
      "codemirror_mode": {
        "name": "ipython",
        "version": 3
      },
      "file_extension": ".py",
      "mimetype": "text/x-python",
      "name": "python",
      "nbconvert_exporter": "python",
      "pygments_lexer": "ipython3",
      "version": "3.12.7"
    }
  },
  "nbformat": 4,
  "nbformat_minor": 0
}
